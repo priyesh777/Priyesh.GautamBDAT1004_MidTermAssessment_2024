{
  "metadata": {
    "kernelspec": {
      "name": "python",
      "display_name": "Python (Pyodide)",
      "language": "python"
    },
    "language_info": {
      "codemirror_mode": {
        "name": "python",
        "version": 3
      },
      "file_extension": ".py",
      "mimetype": "text/x-python",
      "name": "python",
      "nbconvert_exporter": "python",
      "pygments_lexer": "ipython3",
      "version": "3.8"
    }
  },
  "nbformat_minor": 4,
  "nbformat": 4,
  "cells": [
    {
      "cell_type": "markdown",
      "source": "# This is Question 21 of the mid term assessment\nQuestion (21.) \n__int()__: Constructor that takes as input a pair of Point objects that represent the ends points of the line segment\n\nLength():: returns the length if the segment \n\nSlope() returns the slope of the segment of none if the slope is unbounded \n\n>>> p1 = Point(3,4)\n>>> p2 = Point()\n>>> s = Segment(p1,p2)\n>>> s.length()\n5.0\n>>> s.slope()\n\n0.75",
      "metadata": {}
    },
    {
      "cell_type": "markdown",
      "source": "ANSWER EXPLANATION: In order to solve the mentioned question, we need to first define the point and segment classes, then we need to follow the steps:\n\n1. Create two Point objects, p1 and p2.\n2. Create a Segment object s with p1 and p2 as its endpoints.\n3. Call the length method to get the length of the segment.\n4. Call the slope method to get the slope of the segment.\n\nThese steps are implemented in the code below:",
      "metadata": {}
    },
    {
      "cell_type": "code",
      "source": "import math\n\nclass Point:\n    def __init__(self, x=0, y=0):\n        self.x = x\n        self.y = y\n\nclass Segment:\n    def __init__(self, p1, p2):\n        self.p1 = p1\n        self.p2 = p2\n\n    def length(self):\n        return math.sqrt((self.p2.x - self.p1.x) ** 2 + (self.p2.y - self.p1.y) ** 2)\n\n    def slope(self):\n        if self.p2.x == self.p1.x:\n            return None  # In this condition the slope is said to be unbounded (vertical line)\n        return (self.p2.y - self.p1.y) / (self.p2.x - self.p1.x)\n\n# Example usage\np1 = Point(3, 4)\np2 = Point(5, 6)\ns = Segment(p1, p2)\nprint(s.length())\nprint(s.slope())",
      "metadata": {
        "trusted": true
      },
      "outputs": [
        {
          "name": "stdout",
          "text": "2.8284271247461903\n1.0\n",
          "output_type": "stream"
        }
      ],
      "execution_count": 2
    },
    {
      "cell_type": "markdown",
      "source": "# This is Question 22 of the mid term assessment\n# Question (22.) \nSolve the following questions using both SQL and python.\n+---------------+---------+\n| Column Name   | Type    |\n+---------------+---------+\n| id            | int     |\n| recordDate    | date    |\n| temperature   | int     |\n+---------------+---------+\nid is the column with unique values for this table.\nThis table contains information about the temperature on a certain day.\nWrite a solution to find all dates' Id with higher temperatures compared to its previous dates (yesterday).\n\nReturn the result table in any order.\n\nPlease use the following input Weather table for your solution given below. Now, create the database, create the table, insert the data below and execute the SQL query.\nInput: \nWeather table:\n+----+------------+-------------+\n| id | recordDate | temperature |\n+----+------------+-------------+\n| 1  | 2015-01-01 | 10          |\n| 2  | 2015-01-02 | 25          |\n| 3  | 2015-01-03 | 20          |\n| 4  | 2015-01-04 | 30          |\n+----+------------+-------------+\nOutput: \n+----+\n| id |\n+----+\n| 2  |\n| 4  |\n+----+\nExplanation: \nIn 2015-01-02, the temperature was higher than the previous day (10 -> 25).\nIn 2015-01-04, the temperature was higher than the previous day (20 -> 30).\n",
      "metadata": {}
    },
    {
      "cell_type": "markdown",
      "source": "# ANSWER EXPLANATION:\nWe will be using python with the sqlite3 module to create the database, insert the data, and execute the query where we will follow the mentioned steps to reach our objective:\n\n1. Fetching all records from the Weather table and order them by recordDate.\n2. Iterating through the records, converting the recordDate to a datetime object.\n3. Checking if the difference between the current date and the previous date is exactly one day and if the temperature is higher.\n4. Printing the id of the records that meet the criteria.\n\nThe steps are implemented in the code below:",
      "metadata": {}
    },
    {
      "cell_type": "code",
      "source": "import sqlite3\n\n# Using an in-memory SQLite database for easier testing\ndatabase_conn = sqlite3.connect(':memory:')\ncursor = database_conn.cursor()\n\n# Creating the Weather table\ncursor.execute('''\nCREATE TABLE IF NOT EXISTS Weather (\n    id INTEGER PRIMARY KEY,\n    recordDate DATE,\n    temperature INTEGER\n)\n''')\n\n# Inserting the data into the Weather table\ndata = [\n    (1, '2015-01-01', 10),\n    (2, '2015-01-02', 25),\n    (3, '2015-01-03', 20),\n    (4, '2015-01-04', 30)\n]\ncursor.executemany('INSERT INTO Weather (id, recordDate, temperature) VALUES (?, ?, ?)', data)\ndatabase_conn.commit()\n\n# SQL query to find all dates with higher temperatures compared to its previous day\ncursor.execute('''\n    SELECT id\n    FROM (\n        SELECT id, temperature, LAG(temperature) OVER (ORDER BY recordDate) AS prev_temp\n        FROM Weather\n    )\n    WHERE temperature > prev_temp;\n''')\n\n# Executing the fetched results\nresults = cursor.fetchall()\nfor result in results:\n    print(result[0])\n\n# Closing the connection\ndatabase_conn.close()",
      "metadata": {
        "trusted": true
      },
      "outputs": [
        {
          "name": "stdout",
          "text": "2\n4\n",
          "output_type": "stream"
        }
      ],
      "execution_count": 13
    },
    {
      "cell_type": "markdown",
      "source": "# This is question 23 of the mid-term test\n# Question (23.)\nDevelop a recursive function tough() that takes two nonnegative integer arguments and outputs a pattern as shown below. Hint: The first argument represents the indentation of the pattern, where the second argument -- always a pattern of 2 indicates the number *s in the longest line of *s in the pattern.\n",
      "metadata": {}
    },
    {
      "cell_type": "markdown",
      "source": "# Answer Explanation:\nHere the basic algorithm used for the recursive function is:\n1. Printing increasing stars from 1 up to n.\n2. Printing decreasing stars from n-1 back down to 1 after the peak.\n\nFurthermore, we have a function name tough() which has two arguments namely \"indentation\" and \"n\" which are explained in detail below:  \n- indentation: It controls how many spaces will be printed before each row of stars. This allows the pattern to be \"indented\" or shifted to the right.\n- n: It determines how many stars will be in the longest row (the peak of the pattern) and controls the total size of the pattern.\n\nWe have three main cases for the function:  \n1. Base case, which is stopping condition where if n=0, the function does nothing and simply returns.This avoids any further pattern generation when no stars are required\n2. Increasing case, where for loop iterates from 1 to n. Each iteration prints a line with i stars (* repeated i times).This allows each line to be indented by that many spaces.\n3. Decreasing case, where for loop prints the \"downward\" part of the pattern, starting from n-1 stars and decreasing to 1 star. Here, the loop runs from n-1 down to 1, so the third argument -1 in range(n-1, 0, -1) tells the range to count downwards.\n\nHence, using the arguments (0,4) the recursive function is demonstrated.",
      "metadata": {}
    },
    {
      "cell_type": "code",
      "source": "def tough(indentation, n):\n    if n == 0:\n        return\n    \n    # Print increasing stars\n    for i in range(1, n+1):\n        print(' ' * indentation + '*' * i)\n    \n    # Print decreasing stars after the peak\n    for i in range(n-1, 0, -1):\n        print(' ' * indentation + '*' * i)\n\n# Code execution example:\ntough(0, 4)\n",
      "metadata": {
        "trusted": true
      },
      "outputs": [
        {
          "name": "stdout",
          "text": "*\n**\n***\n****\n***\n**\n*\n",
          "output_type": "stream"
        }
      ],
      "execution_count": 15
    },
    {
      "cell_type": "code",
      "source": "",
      "metadata": {
        "trusted": true
      },
      "outputs": [],
      "execution_count": null
    }
  ]
}